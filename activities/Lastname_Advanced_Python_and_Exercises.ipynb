{
  "cells": [
    {
      "cell_type": "markdown",
      "metadata": {
        "id": "_sl057KIe9O1"
      },
      "source": [
        "# NumPy\n",
        "NumPy, short for Numerical Python, is a fundamental package for scientific computing in Python. It provides a powerful N-dimensional array object, along with a variety of functions for performing operations on these arrays, including mathematical, logical, shape manipulation, sorting, selecting, and basic linear algebra, among others. With its ability to handle large, multi-dimensional arrays and matrices efficiently, NumPy forms the foundation for many other scientific and data analysis libraries in Python, such as SciPy, Pandas, and machine learning frameworks like TensorFlow. It is widely used in data science, machine learning, and engineering for its performance, ease of use, and extensive community support.\n",
        "\n",
        "Note that the first ten exercises are in beginner level. While the rest is at a level of above average. By the end of the exercises, you are expected to leverage your knowledge in NumPy."
      ]
    },
    {
      "cell_type": "markdown",
      "metadata": {
        "id": "BaFE7Qnyfmm1"
      },
      "source": [
        "## 1. Create an Array\n",
        "Create an Array: Write a program that creates a NumPy array with elements `[1, 2, 3, 4, 5]`. Display the array."
      ]
    },
    {
      "cell_type": "code",
      "execution_count": 1,
      "metadata": {
        "id": "o4Md3m5FegRu"
      },
      "outputs": [
        {
          "name": "stdout",
          "output_type": "stream",
          "text": [
            "[1 2 3 4 5]\n"
          ]
        }
      ],
      "source": [
        "\n",
        "# insert your code for `Create an Array`\n",
        "import numpy as np\n",
        "\n",
        "arr = np.array([1, 2, 3, 4, 5])\n",
        "\n",
        "print(arr)"
      ]
    },
    {
      "cell_type": "markdown",
      "metadata": {
        "id": "KotzX9TRfy90"
      },
      "source": [
        "## 2. Array Operations\n",
        "Create two NumPy arrays, `a = [1, 2, 3]` and `b = [4, 5, 6]`. Perform element-wise addition, subtraction, multiplication, and division, and print the results."
      ]
    },
    {
      "cell_type": "code",
      "execution_count": 2,
      "metadata": {
        "id": "f7uWUaPrf6Gx"
      },
      "outputs": [
        {
          "name": "stdout",
          "output_type": "stream",
          "text": [
            "Array a: [1 2 3]\n",
            "Array b: [4 5 6]\n",
            "Addition: [5 7 9]\n",
            "Subtraction: [-3 -3 -3]\n",
            "Multiplication: [ 4 10 18]\n",
            "Division: [0.25 0.4  0.5 ]\n"
          ]
        }
      ],
      "source": [
        "# insert your code for `Array Operations`\n",
        "import numpy as np\n",
        "\n",
        "# Create the arrays\n",
        "a = np.array([1, 2, 3])\n",
        "b = np.array([4, 5, 6])\n",
        "\n",
        "# Perform element-wise operations\n",
        "addition = a + b\n",
        "subtraction = a - b\n",
        "multiplication = a * b\n",
        "division = a / b\n",
        "\n",
        "print(\"Array a:\", a)\n",
        "print(\"Array b:\", b)\n",
        "print(\"Addition:\", addition)\n",
        "print(\"Subtraction:\", subtraction)\n",
        "print(\"Multiplication:\", multiplication)\n",
        "print(\"Division:\", division)"
      ]
    },
    {
      "cell_type": "markdown",
      "metadata": {
        "id": "nEuWl8Uif5ki"
      },
      "source": [
        "## 3. Array Slicing\n",
        "Given a NumPy array `arr = [10, 20, 30, 40, 50]`, slice the array to extract the first three elements and the last two elements. Print both slices."
      ]
    },
    {
      "cell_type": "code",
      "execution_count": 3,
      "metadata": {
        "id": "-w5P6L-ggCQE"
      },
      "outputs": [
        {
          "name": "stdout",
          "output_type": "stream",
          "text": [
            "Original array: [10 20 30 40 50]\n",
            "First three elements: [10 20 30]\n",
            "Last two elements: [40 50]\n"
          ]
        }
      ],
      "source": [
        "# insert your code for `Array Slicing`\n",
        "import numpy as np\n",
        "\n",
        "arr = np.array([10, 20, 30, 40, 50])\n",
        "\n",
        "first_three = arr[:3]\n",
        "\n",
        "last_two = arr[-2:]\n",
        "\n",
        "print(\"Original array:\", arr)\n",
        "print(\"First three elements:\", first_three)\n",
        "print(\"Last two elements:\", last_two)"
      ]
    },
    {
      "cell_type": "markdown",
      "metadata": {
        "id": "oxAOI2C1gB5U"
      },
      "source": [
        "## 4. Create a Matrix\n",
        "Write a program that creates a 3x3 matrix using NumPy with values from 1 to 9. Display the matrix."
      ]
    },
    {
      "cell_type": "code",
      "execution_count": 5,
      "metadata": {
        "id": "YbubVz4QgthM"
      },
      "outputs": [
        {
          "name": "stdout",
          "output_type": "stream",
          "text": [
            "[[1 2 3]\n",
            " [4 5 6]\n",
            " [7 8 9]]\n"
          ]
        }
      ],
      "source": [
        "# insert your code for `Create Matrix`\n",
        "import numpy as np\n",
        "\n",
        "matrix = np.array([[1, 2, 3],\n",
        "                   [4, 5, 6],\n",
        "                   [7, 8, 9]])\n",
        "\n",
        "print(matrix)"
      ]
    },
    {
      "cell_type": "markdown",
      "metadata": {
        "id": "-nzwOqklgw-U"
      },
      "source": [
        "## 5. Matrix Transpose\n",
        "Create a 2x3 matrix using NumPy, then compute and print its transpose."
      ]
    },
    {
      "cell_type": "code",
      "execution_count": null,
      "metadata": {
        "id": "Vq9V9ixhg1Bj"
      },
      "outputs": [
        {
          "name": "stdout",
          "output_type": "stream",
          "text": [
            "Original 2x3 matrix:\n",
            "[[1 2 3]\n",
            " [4 5 6]]\n",
            "\n",
            "Transposed 3x2 matrix:\n",
            "[[1 4]\n",
            " [2 5]\n",
            " [3 6]]\n"
          ]
        }
      ],
      "source": [
        "# insert your code for `Matrix Transpose`\n",
        "import numpy as np\n",
        "\n",
        "matrix = np.array([[1, 2, 3],\n",
        "                   [4, 5, 6]])\n",
        "\n",
        "# transpose gamiton aron dali\n",
        "transpose = matrix.T\n",
        "\n",
        "print(\"Original 2x3 matrix:\")\n",
        "print(matrix)\n",
        "print(\"\\nTransposed 3x2 matrix:\")\n",
        "print(transpose)"
      ]
    },
    {
      "cell_type": "markdown",
      "metadata": {
        "id": "vf8LbVErg3vj"
      },
      "source": [
        "## 6. Element-wise Operations\n",
        "Create two 3x3 matrices. Perform element-wise addition, subtraction, and multiplication of these matrices and display the results."
      ]
    },
    {
      "cell_type": "code",
      "execution_count": null,
      "metadata": {
        "id": "jB97Nj0Ug7cA"
      },
      "outputs": [
        {
          "name": "stdout",
          "output_type": "stream",
          "text": [
            "Matrix 1:\n",
            "[[9 8 7]\n",
            " [6 5 4]\n",
            " [3 2 1]]\n",
            "\n",
            "Matrix 2:\n",
            "[[1 2 3]\n",
            " [4 5 6]\n",
            " [7 8 9]]\n",
            "\n",
            "Element-wise Addition:\n",
            "[[10 10 10]\n",
            " [10 10 10]\n",
            " [10 10 10]]\n",
            "\n",
            "Element-wise Subtraction:\n",
            "[[ 8  6  4]\n",
            " [ 2  0 -2]\n",
            " [-4 -6 -8]]\n",
            "\n",
            "Element-wise Multiplication:\n",
            "[[ 9 16 21]\n",
            " [24 25 24]\n",
            " [21 16  9]]\n"
          ]
        }
      ],
      "source": [
        "# insert your code for `Element-wise Operations`\n",
        "import numpy as np\n",
        "\n",
        "\n",
        "matrix2 = np.array([[1, 2, 3],\n",
        "                    [4, 5, 6],\n",
        "                    [7, 8, 9]])\n",
        "\n",
        "matrix1 = np.array([[9, 8, 7],\n",
        "                    [6, 5, 4],\n",
        "                    [3, 2, 1]])\n",
        "\n",
        "# element-wise operations\n",
        "addition = matrix1 + matrix2\n",
        "subtraction = matrix1 - matrix2\n",
        "multiplication = matrix1 * matrix2\n",
        "\n",
        "\n",
        "print(\"Matrix 1:\")\n",
        "print(matrix1)\n",
        "print(\"\\nMatrix 2:\")\n",
        "print(matrix2)\n",
        "\n",
        "print(\"\\nElement-wise Addition:\")\n",
        "print(addition)\n",
        "\n",
        "print(\"\\nElement-wise Subtraction:\")\n",
        "print(subtraction)\n",
        "\n",
        "print(\"\\nElement-wise Multiplication:\")\n",
        "print(multiplication)"
      ]
    },
    {
      "cell_type": "markdown",
      "metadata": {
        "id": "B8v4qPOig_Ug"
      },
      "source": [
        "## 7. Dot Product\n",
        "Create two vectors (1D arrays) of length 3 using NumPy. Compute and display their dot product."
      ]
    },
    {
      "cell_type": "code",
      "execution_count": null,
      "metadata": {
        "id": "0PJhdCcchC2g"
      },
      "outputs": [
        {
          "name": "stdout",
          "output_type": "stream",
          "text": [
            "Vector 1: [1 2 3]\n",
            "Vector 2: [4 5 6]\n",
            "Dot product: 32\n"
          ]
        }
      ],
      "source": [
        "# insert your code for `Dot Product`\n",
        "import numpy as np\n",
        "\n",
        "vector1 = np.array([1, 2, 3])\n",
        "vector2 = np.array([4, 5, 6])\n",
        "\n",
        "# dot product\n",
        "dot_product = np.dot(vector1, vector2)\n",
        "\n",
        "print(\"Vector 1:\", vector1)\n",
        "print(\"Vector 2:\", vector2)\n",
        "print(\"Dot product:\", dot_product)"
      ]
    },
    {
      "cell_type": "markdown",
      "metadata": {
        "id": "KKYLHhOfhGPY"
      },
      "source": [
        "## 8. Statistical Operations\n",
        "Given a NumPy array `arr = [4, 8, 15, 16, 23, 42]`, compute and print the mean, median, and standard deviation of the array."
      ]
    },
    {
      "cell_type": "code",
      "execution_count": null,
      "metadata": {
        "id": "CA-ttYq5hMBk"
      },
      "outputs": [
        {
          "name": "stdout",
          "output_type": "stream",
          "text": [
            "Array: [ 4  8 15 16 23 42]\n",
            "Mean: 18.0\n",
            "Median: 15.5\n",
            "Standard Deviation: 12.315302134607444\n"
          ]
        }
      ],
      "source": [
        "# insert your code for `Statistical Operations`\n",
        "import numpy as np\n",
        "\n",
        "arr = np.array([4, 8, 15, 16, 23, 42])\n",
        "\n",
        "mean = np.mean(arr)\n",
        "median = np.median(arr)\n",
        "std_dev = np.std(arr)\n",
        "\n",
        "print(\"Array:\", arr)\n",
        "print(\"Mean:\", mean)\n",
        "print(\"Median:\", median)\n",
        "print(\"Standard Deviation:\", std_dev)"
      ]
    },
    {
      "cell_type": "markdown",
      "metadata": {
        "id": "VHPpp_mXhLR0"
      },
      "source": [
        "## 9. Reshape an Array\n",
        "Create a 1D NumPy array with 12 elements, then reshape it into a 3x4 matrix. Display the reshaped matrix."
      ]
    },
    {
      "cell_type": "code",
      "execution_count": null,
      "metadata": {
        "id": "8qRsHhUPhUI1"
      },
      "outputs": [
        {
          "name": "stdout",
          "output_type": "stream",
          "text": [
            "Reshaped 3x4 matrix:\n",
            "[[ 1  2  3  4]\n",
            " [ 5  6  7  8]\n",
            " [ 9 10 11 12]]\n"
          ]
        }
      ],
      "source": [
        "# insert your code for `Reshape an Array`\n",
        "import numpy as np\n",
        "\n",
        "arr_1d = np.array([1, 2, 3, 4, 5, 6, 7, 8, 9, 10, 11, 12])\n",
        "\n",
        "# Reshape into a 3x4 matrix\n",
        "arr_2d = arr_1d.reshape(3, 4)\n",
        "\n",
        "print(\"Original 1D array:\")\n",
        "print(arr_1d)\n",
        "print(\"\\nReshaped 3x4 matrix:\")\n",
        "print(arr_2d)\n",
        "\n",
        "#ALTERNATIVE METHOd\n",
        "# import numpy as np\n",
        "\n",
        "# reshape in one line using arrange function\n",
        "# arr_2d = np.arange(1, 13).reshape(3, 4)\n",
        "\n",
        "# print(\"Reshaped 3x4 matrix:\")\n",
        "# print(arr_2d)\n"
      ]
    },
    {
      "cell_type": "markdown",
      "metadata": {
        "id": "-0DFiyHfhW_k"
      },
      "source": [
        "## 10. Conditional Selection\n",
        "Given a NumPy array `arr = [10, 15, 20, 25, 30, 35]`, use a conditional statement to select and print elements greater than 20."
      ]
    },
    {
      "cell_type": "code",
      "execution_count": null,
      "metadata": {
        "id": "Z3qLmZZJhclE"
      },
      "outputs": [
        {
          "name": "stdout",
          "output_type": "stream",
          "text": [
            "Original array: [10 15 20 25 30 35]\n",
            "Elements greater than 20: [25 30 35]\n"
          ]
        }
      ],
      "source": [
        "# insert your code for `Conditional Selection`\n",
        "import numpy as np\n",
        "\n",
        "arr = np.array([10, 15, 20, 25, 30, 35])\n",
        "\n",
        "selected_elements = arr[arr > 20]\n",
        "\n",
        "print(\"Original array:\", arr)\n",
        "print(\"Elements greater than 20:\", selected_elements)"
      ]
    },
    {
      "cell_type": "markdown",
      "metadata": {
        "id": "DstB6T-MhcK0"
      },
      "source": [
        "## 11. One-hot Encoder\n",
        "A one-hot encoder is a technique used in machine learning and data preprocessing to convert categorical data into a numerical format that algorithms can work with more effectively. In this process, each unique category (or class) in the categorical feature is represented as a binary vector, where only one element is set to 1 (indicating the presence of that category) and all other elements are set to 0.\n",
        "\n",
        "For example, consider a categorical feature \"Color\" with three possible values: \"Red,\" \"Green,\" and \"Blue.\" A one-hot encoder would transform this feature into three binary features:\n",
        "\n",
        "* \"Red\" would be encoded as `[1, 0, 0]`\n",
        "* \"Green\" would be encoded as `[0, 1, 0]`\n",
        "* \"Blue\" would be encoded as `[0, 0, 1]`\n",
        "\n",
        "In this activity, the assignment of binary values is based on the order of appearance of the class in the given array.\n",
        "\n",
        "Sample output  1:\n",
        "```\n",
        "Enter an array of classes (separated by spaces): dog cat snake horse\n",
        "[[ 1, 0, 0, 0],\n",
        " [ 0, 1, 0, 0],\n",
        " [ 0, 0, 1, 0],\n",
        " [ 0, 0, 0, 1]]\n",
        "```\n",
        "\n",
        "Sample output 2:\n",
        "```\n",
        "Enter an array of classes (separated by spaces): dog dog dog cat snake snake horse horse horse cat\n",
        "[[ 1, 0, 0, 0],\n",
        " [ 1, 0, 0, 0],\n",
        " [ 1, 0, 0, 0],\n",
        " [ 0, 1, 0, 0],\n",
        " [ 0, 0, 1, 0],\n",
        " [ 0, 0, 1, 0],\n",
        " [ 0, 0, 0, 1],\n",
        " [ 0, 0, 0, 1],\n",
        " [ 0, 0, 0, 1],\n",
        " [ 0, 1, 0, 0]]\n",
        "```\n",
        "\n",
        "Sample output 3:\n",
        "```\n",
        "Enter an array of classes (separated by spaces): lotion lotion mug pencil pencil calendar calendar lotion mug\n",
        "[[ 1, 0, 0, 0],\n",
        " [ 1, 0, 0, 0],\n",
        " [ 0, 1, 0, 0],\n",
        " [ 0, 0, 1, 0],\n",
        " [ 0, 0, 1, 0],\n",
        " [ 0, 0, 0, 1],\n",
        " [ 0, 0, 0, 1],\n",
        " [ 1, 0, 0, 0],\n",
        " [ 0, 1, 0, 0]]\n",
        "```\n"
      ]
    },
    {
      "cell_type": "code",
      "execution_count": null,
      "metadata": {
        "id": "pdUQS9f2i8oM"
      },
      "outputs": [
        {
          "name": "stdout",
          "output_type": "stream",
          "text": [
            "[[1 0 0 0]\n",
            " [0 1 0 0]\n",
            " [0 0 1 0]\n",
            " [0 0 0 1]]\n"
          ]
        }
      ],
      "source": [
        "# insert your code for `One-hot Encoder`\n",
        "import numpy as np\n",
        "\n",
        "classes = input(\"Enter an array of classes (separated by spaces): \").split()\n",
        "\n",
        "unique_classes = list(dict.fromkeys(classes))\n",
        "\n",
        "# one-hot encoded matrix\n",
        "one_hot = []\n",
        "for cls in classes:\n",
        "    row = [1 if cls == unique_cls else 0 for unique_cls in unique_classes]\n",
        "    one_hot.append(row)\n",
        "\n",
        "one_hot_matrix = np.array(one_hot)\n",
        "print(one_hot_matrix)"
      ]
    },
    {
      "cell_type": "markdown",
      "metadata": {
        "id": "_h1zQVSHjRfz"
      },
      "source": [
        "\n",
        "## 12. Convolution Operation\n",
        "**Task Description**:\n",
        "Given a 5x5 matrix and a 3x3 kernel, apply the convolution operation manually by sliding the kernel over the matrix. The output will be a 3x3 matrix, where each element is the result of the convolution at that position.\n",
        "\n",
        "**Convolution Operation**:\n",
        "The convolution operation involves placing the center of the kernel on a matrix element, multiplying the overlapping values, and summing them up. The kernel is moved across the matrix to compute each element of the resulting matrix. Alternatively, learn the operation from this [YouTube](https://www.youtube.com/watch?v=yb2tPt0QVPY) demo.\n",
        "\n",
        "Sample Input:\n",
        "```\n",
        "Matrix (5x5):\n",
        "[[20 24 11 12 16]\n",
        " [19 17 20 23 15]\n",
        " [21 40 25 13 14]\n",
        " [ 9 18  8  6 11]\n",
        " [31  3  7  9 17]]\n",
        "\n",
        "Kernel (3x3):\n",
        "[[1 0 -1]\n",
        " [2 0 -2]\n",
        " [1 0 -1]]\n",
        "```\n",
        "\n",
        "Output:\n",
        "```\n",
        "[[ 3 27 16]\n",
        " [-8 60 24]\n",
        " [22 45 -5]]\n",
        "```"
      ]
    },
    {
      "cell_type": "code",
      "execution_count": null,
      "metadata": {
        "id": "FfCP1_MwnP4N"
      },
      "outputs": [
        {
          "name": "stdout",
          "output_type": "stream",
          "text": [
            "Convolution Result:\n",
            "[[ 3 27 16]\n",
            " [-8 60 24]\n",
            " [22 45 -5]]\n"
          ]
        }
      ],
      "source": [
        "# insert your code for `Convolution Operation`\n",
        "import numpy as np\n",
        "\n",
        "matrix = np.array([[20, 24, 11, 12, 16],\n",
        "                   [19, 17, 20, 23, 15],\n",
        "                   [21, 40, 25, 13, 14],\n",
        "                   [9, 18, 8, 6, 11],\n",
        "                   [31, 3, 7, 9, 17]])\n",
        "\n",
        "kernel = np.array([[1, 0, -1],\n",
        "                   [2, 0, -2],\n",
        "                   [1, 0, -1]])\n",
        "\n",
        "matrix_rows, matrix_cols = matrix.shape\n",
        "kernel_rows, kernel_cols = kernel.shape\n",
        "\n",
        "output_rows = matrix_rows - kernel_rows + 1\n",
        "output_cols = matrix_cols - kernel_cols + 1\n",
        "\n",
        "# output matrix\n",
        "output = np.zeros((output_rows, output_cols))\n",
        "\n",
        "# Perform convolution\n",
        "for i in range(output_rows):\n",
        "    for j in range(output_cols):\n",
        "        # extract current window from the matrix\n",
        "        window = matrix[i:i+kernel_rows, j:j+kernel_cols]\n",
        "        # multiply window with the kernel and sum the result\n",
        "        output[i, j] = np.sum(window * kernel)\n",
        "\n",
        "print(\"Convolution Result:\")\n",
        "print(output.astype(int))"
      ]
    },
    {
      "cell_type": "markdown",
      "metadata": {
        "id": "lhN3PNwVnrPt"
      },
      "source": [
        "# Pandas\n",
        "Pandas is a powerful and widely-used data manipulation and analysis library in Python, designed to handle structured data with ease and efficiency. Built on top of NumPy, Pandas introduces two primary data structures: Series (one-dimensional labeled arrays) and DataFrame (two-dimensional labeled tables), which allow users to perform a wide range of operations, such as data cleaning, filtering, aggregation, and visualization. With its intuitive and flexible syntax, Pandas simplifies the process of working with large datasets, making it an essential tool for data science, machine learning, and any task involving data analysis in Python."
      ]
    },
    {
      "cell_type": "markdown",
      "metadata": {
        "id": "xbjeMhynnzrs"
      },
      "source": [
        "## 1. Loading Data into a DataFrame\n",
        "Given a CSV file containing information about rice ([rice.csv](https://drive.google.com/file/d/1MmIKxklM498piI-QIPUuWBzlPtSnsyBf/view?usp=sharing)), load the file into a Pandas DataFrame and display the first 5 rows."
      ]
    },
    {
      "cell_type": "code",
      "execution_count": null,
      "metadata": {
        "id": "9MsWEs3Gouvl"
      },
      "outputs": [
        {
          "name": "stdout",
          "output_type": "stream",
          "text": [
            "First 5 rows of the DataFrame:\n",
            "    Area   Perimeter  Major_Axis_Length  Minor_Axis_Length  Eccentricity  \\\n",
            "0  15231  525.578979         229.749878          85.093788      0.928882   \n",
            "1  14656         NaN         206.020065          91.730972      0.895405   \n",
            "2  14634  501.122009         214.106781          87.768288      0.912118   \n",
            "3  13176  458.342987         193.337387          87.448395      0.891861   \n",
            "4  14688  507.166992         211.743378          89.312454      0.906691   \n",
            "\n",
            "   Convex_Area    Extent  Class  \n",
            "0      15617.0  0.572896      0  \n",
            "1      15072.0  0.615436      0  \n",
            "2      14954.0  0.693259      0  \n",
            "3      13368.0  0.640669      0  \n",
            "4      15262.0  0.646024      0  \n"
          ]
        }
      ],
      "source": [
        "# insert your code\n",
        "import pandas as pd\n",
        "\n",
        "\n",
        "df = pd.read_csv('rice.csv')  \n",
        "\n",
        "print(\"First 5 rows of the DataFrame:\")\n",
        "print(df.head())\n",
        "\n",
        "#SOLUTION #2 DIRECTLY FROM GOOGLE DRIVE\n",
        "# import pandas as pd\n",
        "\n",
        "# # File ID from the Google Drive link\n",
        "# file_id = '1MmIKxklM498piI-QIPUuWBzlPtSnsyBf'\n",
        "\n",
        "# create download link first\n",
        "# download_link = f'https://drive.google.com/uc?export=download&id={file_id}'\n",
        "\n",
        "# # Load the CSV file\n",
        "# df = pd.read_csv(download_link)\n",
        "\n",
        "# print(\"First 5 rows of the DataFrame:\")\n",
        "# print(df.head())"
      ]
    },
    {
      "cell_type": "markdown",
      "metadata": {
        "id": "1ekxKGsqoxB8"
      },
      "source": [
        "## 2. Basic DataFrame Operations\n",
        "Using the rice.csv DataFrame, print the column names, data types, and a summary of statistics (mean, min, max, etc.) for each numerical column."
      ]
    },
    {
      "cell_type": "code",
      "execution_count": null,
      "metadata": {
        "id": "dQtD8Hp9pvaF"
      },
      "outputs": [
        {
          "name": "stdout",
          "output_type": "stream",
          "text": [
            "Column Names:\n",
            "['Area', 'Perimeter', 'Major_Axis_Length', 'Minor_Axis_Length', 'Eccentricity', 'Convex_Area', 'Extent', 'Class']\n",
            "\n",
            "==================================================\n",
            "\n",
            "Data Types:\n",
            "Area                   int64\n",
            "Perimeter            float64\n",
            "Major_Axis_Length    float64\n",
            "Minor_Axis_Length    float64\n",
            "Eccentricity         float64\n",
            "Convex_Area          float64\n",
            "Extent               float64\n",
            "Class                  int64\n",
            "dtype: object\n",
            "\n",
            "==================================================\n",
            "\n",
            "Summary Statistics for Numerical Columns:\n",
            "               Area    Perimeter  Major_Axis_Length  Minor_Axis_Length  \\\n",
            "count   3810.000000  3809.000000        3809.000000        3810.000000   \n",
            "mean   12667.727559   454.228660         188.773808          86.313750   \n",
            "std     1732.367706    35.595831          17.450333           5.729817   \n",
            "min     7551.000000   359.100006         145.264465          59.532406   \n",
            "25%    11370.500000   426.138000         174.352432          82.731695   \n",
            "50%    12421.500000   448.847992         185.801941          86.434647   \n",
            "75%    13950.000000   483.667999         203.559433          90.143677   \n",
            "max    18913.000000   548.445984         239.010498         107.542450   \n",
            "\n",
            "       Eccentricity   Convex_Area       Extent        Class  \n",
            "count   3810.000000   3809.000000  3810.000000  3810.000000  \n",
            "mean       0.886871  12951.977159     0.661934     0.572178  \n",
            "std        0.020818   1776.915749     0.077239     0.494828  \n",
            "min        0.777233   7723.000000     0.497413     0.000000  \n",
            "25%        0.872402  11626.000000     0.598862     0.000000  \n",
            "50%        0.889050  12706.000000     0.645361     1.000000  \n",
            "75%        0.902588  14284.000000     0.726562     1.000000  \n",
            "max        0.948007  19099.000000     0.861050     1.000000  \n"
          ]
        }
      ],
      "source": [
        "# insert your code\n",
        "import pandas as pd\n",
        "\n",
        "df = pd.read_csv('rice.csv')\n",
        "\n",
        "print(\"Column Names:\")\n",
        "print(df.columns.tolist())\n",
        "print(\"\\n\" + \"=\"*50 + \"\\n\") # divider kunuhay\n",
        "\n",
        "print(\"Data Types:\")\n",
        "print(df.dtypes)\n",
        "print(\"\\n\" + \"=\"*50 + \"\\n\")\n",
        "\n",
        "# print all nalang\n",
        "print(\"Summary Statistics for Numerical Columns:\")\n",
        "print(df.describe())"
      ]
    },
    {
      "cell_type": "markdown",
      "metadata": {
        "id": "HGQ5UD4xpGLE"
      },
      "source": [
        "## 3. Filtering and Selecting Data\n",
        "From the rice.csv DataFrame, filter the rows where the rice grain's area is greater than 13480 and select only the \"Eccentricity\" and \"Extent\" columns."
      ]
    },
    {
      "cell_type": "code",
      "execution_count": null,
      "metadata": {
        "id": "6y2bgp3YpvD1"
      },
      "outputs": [
        {
          "name": "stdout",
          "output_type": "stream",
          "text": [
            "Rows with Area > 13480 (showing only Eccentricity and Extent columns):\n",
            "      Eccentricity    Extent\n",
            "0         0.928882  0.572896\n",
            "1         0.895405  0.615436\n",
            "2         0.912118  0.693259\n",
            "4         0.906691  0.646024\n",
            "6         0.880323  0.589708\n",
            "...            ...       ...\n",
            "3661      0.883080  0.588268\n",
            "3671      0.900895  0.664536\n",
            "3744      0.840671  0.655256\n",
            "3784      0.876376  0.607219\n",
            "3798      0.900635  0.730624\n",
            "\n",
            "[1210 rows x 2 columns]\n"
          ]
        }
      ],
      "source": [
        "# insert your code\n",
        "import pandas as pd\n",
        "\n",
        "df = pd.read_csv('rice.csv')\n",
        "\n",
        "# filter rows where Area > 13480 && only Eccentricity and Extent columns\n",
        "filtered_data = df[df['Area'] > 13480][['Eccentricity', 'Extent']]\n",
        "\n",
        "print(\"Rows with Area > 13480:\")\n",
        "print(filtered_data)"
      ]
    },
    {
      "cell_type": "markdown",
      "metadata": {
        "id": "oa6Ym9CtphJt"
      },
      "source": [
        "## 4. Handling Missing Data\n",
        "Given a DataFrame with missing values in some rows, identify the missing data, then drop the rows with missing data."
      ]
    },
    {
      "cell_type": "code",
      "execution_count": 20,
      "metadata": {
        "id": "XR2mfhynpuYV"
      },
      "outputs": [
        {
          "name": "stdout",
          "output_type": "stream",
          "text": [
            "Missing values in each column:\n",
            "Area                 0\n",
            "Perimeter            1\n",
            "Major_Axis_Length    1\n",
            "Minor_Axis_Length    0\n",
            "Eccentricity         0\n",
            "Convex_Area          1\n",
            "Extent               0\n",
            "Class                0\n",
            "dtype: int64\n",
            "\n",
            "========================================\n",
            "Original DataFrame shape: (3810, 8)\n",
            "Cleaned DataFrame shape: (3807, 8)\n",
            "Number of rows dropped: 3\n",
            "\n",
            "Dropped rows:\n",
            "     Area   Perimeter  Major_Axis_Length  Minor_Axis_Length  Eccentricity  \\\n",
            "1   14656         NaN         206.020065          91.730972      0.895405   \n",
            "8   14534  483.640991         196.650818          95.050682      0.875429   \n",
            "19  13699  480.729004                NaN          89.949074      0.890821   \n",
            "\n",
            "    Convex_Area    Extent  Class  \n",
            "1       15072.0  0.615436      0  \n",
            "8           NaN  0.649651      0  \n",
            "19      14178.0  0.672047      0  \n"
          ]
        }
      ],
      "source": [
        "import pandas as pd\n",
        "\n",
        "# load\n",
        "df = pd.read_csv('rice.csv')\n",
        "\n",
        "# identify missing data\n",
        "print(\"Missing values in each column:\")\n",
        "print(df.isnull().sum())\n",
        "print(\"\\n\" + \"=\"*40)\n",
        "\n",
        "# drop rows with missing data\n",
        "df_cleaned = df.dropna()\n",
        "\n",
        "print(f\"Original DataFrame shape: {df.shape}\")\n",
        "print(f\"Cleaned DataFrame shape: {df_cleaned.shape}\")\n",
        "print(f\"Number of rows dropped: {len(df) - len(df_cleaned)}\")\n",
        "\n",
        "# print dropped rows\n",
        "print(\"\\nDropped rows:\")\n",
        "print(df[df.isnull().any(axis=1)])\n"
      ]
    },
    {
      "cell_type": "markdown",
      "metadata": {
        "id": "l-zob-0hpxS9"
      },
      "source": [
        "## 5. Grouping and Aggregating Data\n",
        "Using the `rice.csv` DataFrame, group the data by the `Perimeter` column and calculate the `convex area` for each department."
      ]
    },
    {
      "cell_type": "code",
      "execution_count": null,
      "metadata": {
        "id": "hQoL7tL4qDi8"
      },
      "outputs": [
        {
          "name": "stdout",
          "output_type": "stream",
          "text": [
            "       Perimeter  Convex_Area\n",
            "0     359.100006       8651.0\n",
            "1     362.673004       8080.0\n",
            "2     369.063995       7723.0\n",
            "3     369.738007       8579.0\n",
            "4     369.778015       9009.0\n",
            "...          ...          ...\n",
            "3732  543.125977      17189.0\n",
            "3733  544.093018      17526.0\n",
            "3734  546.562012      16796.0\n",
            "3735  547.215027      17517.0\n",
            "3736  548.445984      17576.0\n",
            "\n",
            "[3737 rows x 2 columns]\n"
          ]
        }
      ],
      "source": [
        "# insert your code\n",
        "import pandas as pd\n",
        "\n",
        "df = pd.read_csv(\"rice.csv\")\n",
        "\n",
        "# group by Perimeter and aggregate Convex_Area\n",
        "grouped = df.groupby(\"Perimeter\")[\"Convex_Area\"].sum().reset_index()\n",
        "\n",
        "print(grouped)\n"
      ]
    },
    {
      "cell_type": "markdown",
      "metadata": {
        "id": "OCNIFx0AqFK2"
      },
      "source": [
        "## 6. Sorting Data\n",
        "Sort the rice.csv DataFrame by \"Perimeter\" in descending order and display the top 5 highest `Area`."
      ]
    },
    {
      "cell_type": "code",
      "execution_count": 24,
      "metadata": {
        "id": "_Z4_Bt_yqYXN"
      },
      "outputs": [
        {
          "name": "stdout",
          "output_type": "stream",
          "text": [
            "Top 5 rows with highest Perimeter (showing Area and Perimeter):\n",
            "       Area   Perimeter\n",
            "173   17082  548.445984\n",
            "207   17180  547.215027\n",
            "503   16263  546.562012\n",
            "1212  17335  544.093018\n",
            "1184  16944  543.125977\n"
          ]
        }
      ],
      "source": [
        "# insert your code\n",
        "import pandas as pd\n",
        "\n",
        "df = pd.read_csv(\"rice.csv\")\n",
        "\n",
        "# drop rows with missing Perimeter or Area\n",
        "df_clean = df.dropna(subset=[\"Perimeter\", \"Area\"])\n",
        "\n",
        "# Sort by Perimeter,  select top 5 rows\n",
        "top5 = df_clean.sort_values(by=\"Perimeter\", ascending=False).head(5)[[\"Area\", \"Perimeter\"]]\n",
        "\n",
        "print(\"Top 5 rows with highest Perimeter (showing Area and Perimeter):\")\n",
        "print(top5)\n"
      ]
    },
    {
      "cell_type": "markdown",
      "metadata": {
        "id": "ETtNNwG-qYqd"
      },
      "source": [
        "## 7. Data Visualization with Pandas\n",
        "Using the rice.csv DataFrame, create a box chart that shows the statistics for  each column. (You may need to use Matplotlib.)"
      ]
    },
    {
      "cell_type": "code",
      "execution_count": null,
      "metadata": {
        "id": "aiyLLMlBq4gt"
      },
      "outputs": [
        {
          "name": "stderr",
          "output_type": "stream",
          "text": [
            "Matplotlib is building the font cache; this may take a moment.\n"
          ]
        },
        {
          "data": {
            "image/png": "[encoded data removed]",
            "text/plain": [
              "<Figure size 1200x600 with 1 Axes>"
            ]
          },
          "metadata": {},
          "output_type": "display_data"
        }
      ],
      "source": [
        "# insert your code\n",
        "import pandas as pd\n",
        "import matplotlib.pyplot as plt\n",
        "\n",
        "df = pd.read_csv(\"rice.csv\")\n",
        "\n",
        "# Drop non-numeric columns \n",
        "numeric_df = df.select_dtypes(include=[\"float64\", \"int64\"])\n",
        "\n",
        "# make boxplot for all numeric columns\n",
        "plt.figure(figsize=(12, 6))\n",
        "numeric_df.boxplot()\n",
        "plt.title(\"Boxplot of Rice Dataset Features\", fontsize=14)\n",
        "plt.xticks(rotation=45)\n",
        "plt.ylabel(\"Values\")\n",
        "plt.grid(True, linestyle=\"--\", alpha=0.6)\n",
        "\n",
        "plt.show()\n"
      ]
    },
    {
      "cell_type": "markdown",
      "metadata": {
        "id": "CFAYkkYOrAlV"
      },
      "source": [
        "---\n",
        "## End of laboratory exercises. Nothing follows.\n"
      ]
    },
    {
      "cell_type": "markdown",
      "metadata": {
        "id": "ja2-2bAQXzaQ"
      },
      "source": [
        "## Future addition to problems in numpy\n",
        "activation functions"
      ]
    }
  ],
  "metadata": {
    "colab": {
      "provenance": []
    },
    "kernelspec": {
      "display_name": "myenv",
      "language": "python",
      "name": "python3"
    },
    "language_info": {
      "codemirror_mode": {
        "name": "ipython",
        "version": 3
      },
      "file_extension": ".py",
      "mimetype": "text/x-python",
      "name": "python",
      "nbconvert_exporter": "python",
      "pygments_lexer": "ipython3",
      "version": "3.13.7"
    }
  },
  "nbformat": 4,
  "nbformat_minor": 0
}
